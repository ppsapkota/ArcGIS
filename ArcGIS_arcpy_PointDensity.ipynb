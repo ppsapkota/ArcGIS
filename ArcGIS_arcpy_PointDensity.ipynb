{
 "cells": [
  {
   "cell_type": "code",
   "execution_count": 1,
   "metadata": {},
   "outputs": [],
   "source": [
    "# Point density analysis\n",
    "# Description: Calculates a magnitude per unit area from point \n",
    "#    features that fall within a neighborhood around each cell.\n",
    "# Requirements: Spatial Analyst Extension\n",
    "# Tested on: ArcMap 10.5.1 and Anaconda with Python 2.7\n",
    "# Import system modules\n",
    "import arcpy\n",
    "from arcpy import env\n",
    "from arcpy.sa import *"
   ]
  },
  {
   "cell_type": "code",
   "execution_count": 2,
   "metadata": {},
   "outputs": [],
   "source": [
    "# Set environment settings\n",
    "env.workspace = r\"C:\\Dropbox\\mypath\"\n",
    "# overwriting is true\n",
    "arcpy.env.overwriteOutput = True"
   ]
  },
  {
   "cell_type": "code",
   "execution_count": 20,
   "metadata": {},
   "outputs": [],
   "source": [
    "# Set local variables\n",
    "inFeatures = \"incidents_data.shp\"\n",
    "populationField = \"NONE\"\n",
    "cellSize = 0.01\n",
    "# Create the Neighborhood Object\n",
    "radius = 0.03\n",
    "myNbrCirc = NbrCircle(radius, \"MAP\")"
   ]
  },
  {
   "cell_type": "code",
   "execution_count": 21,
   "metadata": {},
   "outputs": [
    {
     "name": "stdout",
     "output_type": "stream",
     "text": [
      "CheckedOut\n"
     ]
    }
   ],
   "source": [
    "# Check out the ArcGIS Spatial Analyst extension license\n",
    "print (arcpy.CheckOutExtension(\"Spatial\"))"
   ]
  },
  {
   "cell_type": "code",
   "execution_count": 22,
   "metadata": {},
   "outputs": [],
   "source": [
    "# Execute PointDensity\n",
    "outPdens = PointDensity(inFeatures, populationField, cellSize, \n",
    "                        myNbrCirc, \"SQUARE_KILOMETERS\")\n"
   ]
  },
  {
   "cell_type": "code",
   "execution_count": 23,
   "metadata": {},
   "outputs": [],
   "source": [
    "# Save the output \n",
    "outPdens.save(\"incident_pd3\")"
   ]
  },
  {
   "cell_type": "code",
   "execution_count": null,
   "metadata": {},
   "outputs": [],
   "source": []
  }
 ],
 "metadata": {
  "kernelspec": {
   "display_name": "Python 2",
   "language": "python",
   "name": "python2"
  },
  "language_info": {
   "codemirror_mode": {
    "name": "ipython",
    "version": 2
   },
   "file_extension": ".py",
   "mimetype": "text/x-python",
   "name": "python",
   "nbconvert_exporter": "python",
   "pygments_lexer": "ipython2",
   "version": "2.7.13"
  }
 },
 "nbformat": 4,
 "nbformat_minor": 2
}
