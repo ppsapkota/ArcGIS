{
 "cells": [
  {
   "cell_type": "code",
   "execution_count": 1,
   "metadata": {},
   "outputs": [],
   "source": [
    "from arcgis.gis import GIS"
   ]
  },
  {
   "cell_type": "code",
   "execution_count": 3,
   "metadata": {},
   "outputs": [],
   "source": [
    "gis = GIS()"
   ]
  },
  {
   "cell_type": "code",
   "execution_count": 4,
   "metadata": {},
   "outputs": [
    {
     "data": {
      "application/vnd.jupyter.widget-view+json": {
       "model_id": "91a42f29a5614432b89b9bb463f5c13f",
       "version_major": 2,
       "version_minor": 0
      },
      "text/plain": [
       "MapView(layout=Layout(height='400px', width='100%'))"
      ]
     },
     "metadata": {},
     "output_type": "display_data"
    },
    {
     "data": {
      "text/html": [
       "<div class=\"map-static-img-preview-00cc6cdc-ae65-461b-89f6-bb0501f4a7c3\"><img src=\"\"></img></div>"
      ],
      "text/plain": [
       "<IPython.core.display.HTML object>"
      ]
     },
     "metadata": {},
     "output_type": "display_data"
    }
   ],
   "source": [
    "gis.map(\"Gaziantep\")"
   ]
  },
  {
   "cell_type": "code",
   "execution_count": 5,
   "metadata": {},
   "outputs": [],
   "source": [
    "items = gis.content.search(\"Syria\")"
   ]
  },
  {
   "cell_type": "code",
   "execution_count": 6,
   "metadata": {},
   "outputs": [
    {
     "data": {
      "text/html": [
       "<div class=\"item_container\" style=\"height: auto; overflow: hidden; border: 1px solid #cfcfcf; border-radius: 2px; background: #f6fafa; line-height: 1.21429em; padding: 10px;\">\n",
       "                    <div class=\"item_left\" style=\"width: 210px; float: left;\">\n",
       "                       <a href='https://www.arcgis.com/home/item.html?id=fd2b56ac31ea45fea59a6d4cd86c7cce' target='_blank'>\n",
       "                        <img src='https://www.arcgis.com/sharing/rest//content/items/fd2b56ac31ea45fea59a6d4cd86c7cce/info/thumbnail/the_uprooted_small_thumbnail.png' class=\"itemThumbnail\">\n",
       "                       </a>\n",
       "                    </div>\n",
       "\n",
       "                    <div class=\"item_right\"     style=\"float: none; width: auto; overflow: hidden;\">\n",
       "                        <a href='https://www.arcgis.com/home/item.html?id=fd2b56ac31ea45fea59a6d4cd86c7cce' target='_blank'><b>The Uprooted</b>\n",
       "                        </a>\n",
       "                        <br/>War, sectarian violence, and famine have forced more than 50 million people from their homes—the largest number of displaced people since World War II.<img src='https://www.arcgis.com/home/js/jsapi/esri/css/images/item_type_icons/layers16.png' style=\"vertical-align:middle;\">Web Mapping Application by StoryMaps\n",
       "                        <br/>Last Modified: September 01, 2018\n",
       "                        <br/>0 comments, 2,837 views\n",
       "                    </div>\n",
       "                </div>\n",
       "                "
      ],
      "text/plain": [
       "<Item title:\"The Uprooted\" type:Web Mapping Application owner:StoryMaps>"
      ]
     },
     "metadata": {},
     "output_type": "display_data"
    },
    {
     "data": {
      "text/html": [
       "<div class=\"item_container\" style=\"height: auto; overflow: hidden; border: 1px solid #cfcfcf; border-radius: 2px; background: #f6fafa; line-height: 1.21429em; padding: 10px;\">\n",
       "                    <div class=\"item_left\" style=\"width: 210px; float: left;\">\n",
       "                       <a href='https://www.arcgis.com/home/item.html?id=7641fc9c036c4201be00e236de581dcb' target='_blank'>\n",
       "                        <img src='https://www.arcgis.com/sharing/rest//content/items/7641fc9c036c4201be00e236de581dcb/info/thumbnail/1922_Africa.jpg' class=\"itemThumbnail\">\n",
       "                       </a>\n",
       "                    </div>\n",
       "\n",
       "                    <div class=\"item_right\"     style=\"float: none; width: auto; overflow: hidden;\">\n",
       "                        <a href='https://www.arcgis.com/home/item.html?id=7641fc9c036c4201be00e236de581dcb' target='_blank'><b>1922 Africa Map</b>\n",
       "                        </a>\n",
       "                        <br/>In October 1922, National Geographic devoted an entire issue to the continent of Africa which included this beautifully crafted map.<img src='https://www.arcgis.com/home/js/jsapi/esri/css/images/item_type_icons/maps16.png' style=\"vertical-align:middle;\">Web Map by NationalGeographic\n",
       "                        <br/>Last Modified: November 13, 2014\n",
       "                        <br/>0 comments, 651 views\n",
       "                    </div>\n",
       "                </div>\n",
       "                "
      ],
      "text/plain": [
       "<Item title:\"1922 Africa Map\" type:Web Map owner:NationalGeographic>"
      ]
     },
     "metadata": {},
     "output_type": "display_data"
    },
    {
     "data": {
      "text/html": [
       "<div class=\"item_container\" style=\"height: auto; overflow: hidden; border: 1px solid #cfcfcf; border-radius: 2px; background: #f6fafa; line-height: 1.21429em; padding: 10px;\">\n",
       "                    <div class=\"item_left\" style=\"width: 210px; float: left;\">\n",
       "                       <a href='https://www.arcgis.com/home/item.html?id=44d306529d4044379df9988d2ab2421d' target='_blank'>\n",
       "                        <img src='https://www.arcgis.com/sharing/rest//content/items/44d306529d4044379df9988d2ab2421d/info/thumbnail/Holy_Land.jpg' class=\"itemThumbnail\">\n",
       "                       </a>\n",
       "                    </div>\n",
       "\n",
       "                    <div class=\"item_right\"     style=\"float: none; width: auto; overflow: hidden;\">\n",
       "                        <a href='https://www.arcgis.com/home/item.html?id=44d306529d4044379df9988d2ab2421d' target='_blank'><b>1989 Holy Land</b>\n",
       "                        </a>\n",
       "                        <br/>This map features a map of the Holy Land published in 1989 that includes beautiful cartography combined with copious historic, religious, and geographic facts about this land.<img src='https://www.arcgis.com/home/js/jsapi/esri/css/images/item_type_icons/maps16.png' style=\"vertical-align:middle;\">Web Map by NationalGeographic\n",
       "                        <br/>Last Modified: November 13, 2014\n",
       "                        <br/>0 comments, 1,423 views\n",
       "                    </div>\n",
       "                </div>\n",
       "                "
      ],
      "text/plain": [
       "<Item title:\"1989 Holy Land\" type:Web Map owner:NationalGeographic>"
      ]
     },
     "metadata": {},
     "output_type": "display_data"
    },
    {
     "data": {
      "text/html": [
       "<div class=\"item_container\" style=\"height: auto; overflow: hidden; border: 1px solid #cfcfcf; border-radius: 2px; background: #f6fafa; line-height: 1.21429em; padding: 10px;\">\n",
       "                    <div class=\"item_left\" style=\"width: 210px; float: left;\">\n",
       "                       <a href='https://www.arcgis.com/home/item.html?id=ac3dd22db3c84c20b5cd58ddab563462' target='_blank'>\n",
       "                        <img src='https://www.arcgis.com/sharing/rest//content/items/ac3dd22db3c84c20b5cd58ddab563462/info/thumbnail/1929_Europe.jpg' class=\"itemThumbnail\">\n",
       "                       </a>\n",
       "                    </div>\n",
       "\n",
       "                    <div class=\"item_right\"     style=\"float: none; width: auto; overflow: hidden;\">\n",
       "                        <a href='https://www.arcgis.com/home/item.html?id=ac3dd22db3c84c20b5cd58ddab563462' target='_blank'><b>1929 Europe and the Near East Map</b>\n",
       "                        </a>\n",
       "                        <br/>This colorful map was published in December 1929 with three articles on Europe and the Near East.<img src='https://www.arcgis.com/home/js/jsapi/esri/css/images/item_type_icons/maps16.png' style=\"vertical-align:middle;\">Web Map by NationalGeographic\n",
       "                        <br/>Last Modified: November 13, 2014\n",
       "                        <br/>0 comments, 8,556 views\n",
       "                    </div>\n",
       "                </div>\n",
       "                "
      ],
      "text/plain": [
       "<Item title:\"1929 Europe and the Near East Map\" type:Web Map owner:NationalGeographic>"
      ]
     },
     "metadata": {},
     "output_type": "display_data"
    },
    {
     "data": {
      "text/html": [
       "<div class=\"item_container\" style=\"height: auto; overflow: hidden; border: 1px solid #cfcfcf; border-radius: 2px; background: #f6fafa; line-height: 1.21429em; padding: 10px;\">\n",
       "                    <div class=\"item_left\" style=\"width: 210px; float: left;\">\n",
       "                       <a href='https://www.arcgis.com/home/item.html?id=5158815323df4f9c8b5bc36cd3ed79c3' target='_blank'>\n",
       "                        <img src='https://www.arcgis.com/sharing/rest//content/items/5158815323df4f9c8b5bc36cd3ed79c3/info/thumbnail/Syria.png' class=\"itemThumbnail\">\n",
       "                       </a>\n",
       "                    </div>\n",
       "\n",
       "                    <div class=\"item_right\"     style=\"float: none; width: auto; overflow: hidden;\">\n",
       "                        <a href='https://www.arcgis.com/home/item.html?id=5158815323df4f9c8b5bc36cd3ed79c3' target='_blank'><b>Syria's Deepening Crisis</b>\n",
       "                        </a>\n",
       "                        <br/>The ongoing Syrian conflict has killed tens of thousands of people and brought suffering to millions. The world watches via social media despite occasional crackdowns by the Assad regime.<img src='https://www.arcgis.com/home/js/jsapi/esri/css/images/item_type_icons/layers16.png' style=\"vertical-align:middle;\">Web Mapping Application by StoryMaps\n",
       "                        <br/>Last Modified: November 19, 2015\n",
       "                        <br/>0 comments, 418 views\n",
       "                    </div>\n",
       "                </div>\n",
       "                "
      ],
      "text/plain": [
       "<Item title:\"Syria's Deepening Crisis\" type:Web Mapping Application owner:StoryMaps>"
      ]
     },
     "metadata": {},
     "output_type": "display_data"
    },
    {
     "data": {
      "text/html": [
       "<div class=\"item_container\" style=\"height: auto; overflow: hidden; border: 1px solid #cfcfcf; border-radius: 2px; background: #f6fafa; line-height: 1.21429em; padding: 10px;\">\n",
       "                    <div class=\"item_left\" style=\"width: 210px; float: left;\">\n",
       "                       <a href='https://www.arcgis.com/home/item.html?id=7b49fa5476c44d6baac452837609fbf8' target='_blank'>\n",
       "                        <img src='https://www.arcgis.com/sharing/rest//content/items/7b49fa5476c44d6baac452837609fbf8/info/thumbnail/ago_downloaded.png' class=\"itemThumbnail\">\n",
       "                       </a>\n",
       "                    </div>\n",
       "\n",
       "                    <div class=\"item_right\"     style=\"float: none; width: auto; overflow: hidden;\">\n",
       "                        <a href='https://www.arcgis.com/home/item.html?id=7b49fa5476c44d6baac452837609fbf8' target='_blank'><b>Jihan's Story</b>\n",
       "                        </a>\n",
       "                        <br/><img src='https://www.arcgis.com/home/js/jsapi/esri/css/images/item_type_icons/layers16.png' style=\"vertical-align:middle;\">Web Mapping Application by sosinga\n",
       "                        <br/>Last Modified: January 26, 2017\n",
       "                        <br/>0 comments, 328 views\n",
       "                    </div>\n",
       "                </div>\n",
       "                "
      ],
      "text/plain": [
       "<Item title:\"Jihan's Story\" type:Web Mapping Application owner:sosinga>"
      ]
     },
     "metadata": {},
     "output_type": "display_data"
    },
    {
     "data": {
      "text/html": [
       "<div class=\"item_container\" style=\"height: auto; overflow: hidden; border: 1px solid #cfcfcf; border-radius: 2px; background: #f6fafa; line-height: 1.21429em; padding: 10px;\">\n",
       "                    <div class=\"item_left\" style=\"width: 210px; float: left;\">\n",
       "                       <a href='https://www.arcgis.com/home/item.html?id=709b12c585754f32b730025c2422cfe0' target='_blank'>\n",
       "                        <img src='https://www.arcgis.com/sharing/rest//content/items/709b12c585754f32b730025c2422cfe0/info/thumbnail/thumbnail1526332498989.png' class=\"itemThumbnail\">\n",
       "                       </a>\n",
       "                    </div>\n",
       "\n",
       "                    <div class=\"item_right\"     style=\"float: none; width: auto; overflow: hidden;\">\n",
       "                        <a href='https://www.arcgis.com/home/item.html?id=709b12c585754f32b730025c2422cfe0' target='_blank'><b>Middle East and Africa</b>\n",
       "                        </a>\n",
       "                        <br/>This map is designed for use in Navigator for ArcGIS and contains data for the Middle East and Africa supporting map display, geocoding and routing.<img src='https://www.arcgis.com/home/js/jsapi/esri/css/images/item_type_icons/layers16.png' style=\"vertical-align:middle;\">Mobile Map Package by esri_nav\n",
       "                        <br/>Last Modified: May 15, 2018\n",
       "                        <br/>0 comments, 6 views\n",
       "                    </div>\n",
       "                </div>\n",
       "                "
      ],
      "text/plain": [
       "<Item title:\"Middle East and Africa\" type:Mobile Map Package owner:esri_nav>"
      ]
     },
     "metadata": {},
     "output_type": "display_data"
    },
    {
     "data": {
      "text/html": [
       "<div class=\"item_container\" style=\"height: auto; overflow: hidden; border: 1px solid #cfcfcf; border-radius: 2px; background: #f6fafa; line-height: 1.21429em; padding: 10px;\">\n",
       "                    <div class=\"item_left\" style=\"width: 210px; float: left;\">\n",
       "                       <a href='https://www.arcgis.com/home/item.html?id=9f98d1d5876a4142b0bdf223054f0750' target='_blank'>\n",
       "                        <img src='https://www.arcgis.com/sharing/rest//content/items/9f98d1d5876a4142b0bdf223054f0750/info/thumbnail/1922_Africa.jpg' class=\"itemThumbnail\">\n",
       "                       </a>\n",
       "                    </div>\n",
       "\n",
       "                    <div class=\"item_right\"     style=\"float: none; width: auto; overflow: hidden;\">\n",
       "                        <a href='https://www.arcgis.com/home/item.html?id=9f98d1d5876a4142b0bdf223054f0750' target='_blank'><b>1922 Africa Map (Web Mercator)</b>\n",
       "                        </a>\n",
       "                        <br/>In October 1922, National Geographic devoted an entire issue to the continent of Africa which included this beautifully crafted map.<img src='https://www.arcgis.com/home/js/jsapi/esri/css/images/item_type_icons/maps16.png' style=\"vertical-align:middle;\">Web Map by NationalGeographic\n",
       "                        <br/>Last Modified: November 13, 2014\n",
       "                        <br/>0 comments, 8,900 views\n",
       "                    </div>\n",
       "                </div>\n",
       "                "
      ],
      "text/plain": [
       "<Item title:\"1922 Africa Map (Web Mercator)\" type:Web Map owner:NationalGeographic>"
      ]
     },
     "metadata": {},
     "output_type": "display_data"
    },
    {
     "data": {
      "text/html": [
       "<div class=\"item_container\" style=\"height: auto; overflow: hidden; border: 1px solid #cfcfcf; border-radius: 2px; background: #f6fafa; line-height: 1.21429em; padding: 10px;\">\n",
       "                    <div class=\"item_left\" style=\"width: 210px; float: left;\">\n",
       "                       <a href='https://www.arcgis.com/home/item.html?id=87aab07eb884417f90dd6c011701f13d' target='_blank'>\n",
       "                        <img src='https://www.arcgis.com/sharing/rest//content/items/87aab07eb884417f90dd6c011701f13d/info/thumbnail/C_3A_SMP_WKSP_here_ma_2017r1_nav_pro_mmpks_ExtractionPolys_scratch_thumbnail.png' class=\"itemThumbnail\">\n",
       "                       </a>\n",
       "                    </div>\n",
       "\n",
       "                    <div class=\"item_right\"     style=\"float: none; width: auto; overflow: hidden;\">\n",
       "                        <a href='https://www.arcgis.com/home/item.html?id=87aab07eb884417f90dd6c011701f13d' target='_blank'><b>StreetMap Premium - Middle East and Africa</b>\n",
       "                        </a>\n",
       "                        <br/>This StreetMap Premium map is designed for use in ArcGIS Pro and contains data for Middle East and Africa supporting map display, geocoding and routing.<img src='https://www.arcgis.com/home/js/jsapi/esri/css/images/item_type_icons/layers16.png' style=\"vertical-align:middle;\">Mobile Map Package by esri_smp\n",
       "                        <br/>Last Modified: May 15, 2018\n",
       "                        <br/>0 comments, 2 views\n",
       "                    </div>\n",
       "                </div>\n",
       "                "
      ],
      "text/plain": [
       "<Item title:\"StreetMap Premium - Middle East and Africa\" type:Mobile Map Package owner:esri_smp>"
      ]
     },
     "metadata": {},
     "output_type": "display_data"
    },
    {
     "data": {
      "text/html": [
       "<div class=\"item_container\" style=\"height: auto; overflow: hidden; border: 1px solid #cfcfcf; border-radius: 2px; background: #f6fafa; line-height: 1.21429em; padding: 10px;\">\n",
       "                    <div class=\"item_left\" style=\"width: 210px; float: left;\">\n",
       "                       <a href='https://www.arcgis.com/home/item.html?id=90f08a36a651406ca5146701857a0aa2' target='_blank'>\n",
       "                        <img src='https://www.arcgis.com/sharing/rest//content/items/90f08a36a651406ca5146701857a0aa2/info/thumbnail/1949_Europe_and_Near_East.jpg' class=\"itemThumbnail\">\n",
       "                       </a>\n",
       "                    </div>\n",
       "\n",
       "                    <div class=\"item_right\"     style=\"float: none; width: auto; overflow: hidden;\">\n",
       "                        <a href='https://www.arcgis.com/home/item.html?id=90f08a36a651406ca5146701857a0aa2' target='_blank'><b>1949 Europe and the Near East Map</b>\n",
       "                        </a>\n",
       "                        <br/>A striking rendering of post-war Europe, this map published in June 1949 is unique in its lack of ocean color.<img src='https://www.arcgis.com/home/js/jsapi/esri/css/images/item_type_icons/maps16.png' style=\"vertical-align:middle;\">Web Map by NationalGeographic\n",
       "                        <br/>Last Modified: November 13, 2014\n",
       "                        <br/>0 comments, 651 views\n",
       "                    </div>\n",
       "                </div>\n",
       "                "
      ],
      "text/plain": [
       "<Item title:\"1949 Europe and the Near East Map\" type:Web Map owner:NationalGeographic>"
      ]
     },
     "metadata": {},
     "output_type": "display_data"
    }
   ],
   "source": [
    "for item in items:\n",
    "    display(item)"
   ]
  },
  {
   "cell_type": "code",
   "execution_count": null,
   "metadata": {},
   "outputs": [],
   "source": []
  }
 ],
 "metadata": {
  "kernelspec": {
   "display_name": "Python 3",
   "language": "python",
   "name": "python3"
  },
  "language_info": {
   "codemirror_mode": {
    "name": "ipython",
    "version": 3
   },
   "file_extension": ".py",
   "mimetype": "text/x-python",
   "name": "python",
   "nbconvert_exporter": "python",
   "pygments_lexer": "ipython3",
   "version": "3.7.0"
  }
 },
 "nbformat": 4,
 "nbformat_minor": 2
}
